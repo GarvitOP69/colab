{
 "cells": [
  {
   "cell_type": "code",
   "execution_count": 1,
   "metadata": {
    "id": "hdYeQNvHUKld"
   },
   "outputs": [
    {
     "name": "stdout",
     "output_type": "stream",
     "text": [
      "/data/user/0/ru.iiec.pydroid3/files/sh: nvidia-smi: not found\n"
     ]
    }
   ],
   "source": [
    "#@title cek gpu\n",
    "gpu_info = ! nvidia-smi\n",
    "gpu_info = '\\n'.join(gpu_info)\n",
    "if gpu_info.find('V100-PCIE...') >=0:\n",
    "  print(gpu_info)\n",
    "  exit()\n",
    "else :\n",
    "  print(gpu_info)"
   ]
  },
  {
   "cell_type": "code",
   "execution_count": null,
   "metadata": {
    "cellView": "form",
    "id": "lwOZ2CEOUHzv"
   },
   "outputs": [],
   "source": [
    "#@title **SSH**\n",
    "\n",
    "! pip install colab_ssh --upgrade &> /dev/null\n",
    "\n",
    "Ngrok = True #@param {type:'boolean'}\n",
    "Agro = False #@param {type:'boolean'}\n",
    "\n",
    "\n",
    "#@markdown Copy authtoken from https://dashboard.ngrok.com/auth (only for ngrok)\n",
    "ngrokToken = \"\" #@param {type:'string'}\n",
    "\n",
    "\n",
    "def runNGROK():\n",
    "    from colab_ssh import launch_ssh\n",
    "    from IPython.display import clear_output\n",
    "    launch_ssh(ngrokToken, password)\n",
    "    clear_output()\n",
    "\n",
    "    print(\"ssh\", username, end='@')\n",
    "    ! curl -s http://localhost:4040/api/tunnels | python3 -c \\\n",
    "            \"import sys, json; print(json.load(sys.stdin)['tunnels'][0]['public_url'][6:].replace(':', ' -p '))\"\n",
    "\n",
    "\n",
    "def runAgro():\n",
    "    from colab_ssh import launch_ssh_cloudflared\n",
    "    launch_ssh_cloudflared(password=password)\n",
    "\n",
    "\n",
    "try:\n",
    "    if username:\n",
    "        pass\n",
    "    elif password:\n",
    "        pass\n",
    "except NameError:\n",
    "    print(\"No user found using username and password as 'root'\")\n",
    "    username='root'\n",
    "    password='root'\n",
    "\n",
    "\n",
    "if Agro and Ngrok:\n",
    "    print(\"You can't do that\")\n",
    "    print(\"Select only one of them\")\n",
    "elif Agro:\n",
    "    runAgro()\n",
    "elif Ngrok:\n",
    "    if ngrokToken == \"\":\n",
    "        print(\"No ngrokToken Found, Please enter it\")\n",
    "    else:\n",
    "        runNGROK()\n",
    "else:\n",
    "    print(\"Select one of them\")"
   ]
  },
  {
   "cell_type": "code",
   "execution_count": null,
   "metadata": {
    "id": "cnwKOVu5-iNF"
   },
   "outputs": [],
   "source": [
    "#@title **Colab Shutdown**\n",
    "\n",
    "#@markdown To Kill NGROK Tunnel\n",
    "NGROK = False #@param {type:'boolean'}\n",
    "\n",
    "#@markdown To Unmount GDrive\n",
    "GDrive = True #@param {type:'boolean'}\n",
    "\n",
    "#@markdown To Sleep Colab\n",
    "Sleep = True #@param {type:'boolean'}\n",
    "\n",
    "if NGROK:\n",
    "    ! killall ngrok\n",
    "\n",
    "if GDrive:\n",
    "    with open('/content/unmount.py', 'w') as unmount:\n",
    "        unmount.write(\"\"\"from google.colab import drive\n",
    "drive.flush_and_unmount()\"\"\")\n",
    "    \n",
    "    try:\n",
    "        if user:\n",
    "            ! runuser $user -c 'python3 /content/unmount.py'\n",
    "    except NameError:\n",
    "        print(\"Google Drive not Mounted\")\n",
    "\n",
    "if Sleep:\n",
    "    from time import sleep\n",
    "    sleep(43200)"
   ]
  }
 ],
 "metadata": {
  "accelerator": "GPU",
  "colab": {
   "collapsed_sections": [],
   "name": "Untitled.ipynb",
   "provenance": []
  },
  "kernelspec": {
   "display_name": "Python 3 (ipykernel)",
   "language": "python",
   "name": "python3"
  },
  "language_info": {
   "codemirror_mode": {
    "name": "ipython",
    "version": 3
   },
   "file_extension": ".py",
   "mimetype": "text/x-python",
   "name": "python",
   "nbconvert_exporter": "python",
   "pygments_lexer": "ipython3",
   "version": "3.8.3"
  }
 },
 "nbformat": 4,
 "nbformat_minor": 1
}
